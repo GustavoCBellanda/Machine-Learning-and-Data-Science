{
 "cells": [
  {
   "cell_type": "code",
   "execution_count": 1,
   "metadata": {},
   "outputs": [],
   "source": [
    "import Orange"
   ]
  },
  {
   "cell_type": "code",
   "execution_count": 2,
   "metadata": {},
   "outputs": [],
   "source": [
    "base_credit_risk = Orange.data.Table('Machine Learning e Data Science com Python de A à Z/Bases de dados/risco_credito_regras.csv')"
   ]
  },
  {
   "cell_type": "code",
   "execution_count": 3,
   "metadata": {},
   "outputs": [
    {
     "data": {
      "text/plain": [
       "[[ruim, alta, nenhuma, 0_15 | alto],\n",
       " [desconhecida, alta, nenhuma, 15_35 | alto],\n",
       " [desconhecida, baixa, nenhuma, 15_35 | moderado],\n",
       " [desconhecida, baixa, nenhuma, acima_35 | alto],\n",
       " [desconhecida, baixa, nenhuma, acima_35 | baixo],\n",
       " ...\n",
       "]"
      ]
     },
     "execution_count": 3,
     "metadata": {},
     "output_type": "execute_result"
    }
   ],
   "source": [
    "base_credit_risk"
   ]
  },
  {
   "cell_type": "code",
   "execution_count": 4,
   "metadata": {},
   "outputs": [
    {
     "data": {
      "text/plain": [
       "[historia, divida, garantias, renda | risco]"
      ]
     },
     "execution_count": 4,
     "metadata": {},
     "output_type": "execute_result"
    }
   ],
   "source": [
    "base_credit_risk.domain"
   ]
  },
  {
   "cell_type": "code",
   "execution_count": 5,
   "metadata": {},
   "outputs": [],
   "source": [
    "cn2 = Orange.classification.rules.CN2Learner()\n",
    "regras_credit_risk = cn2(base_credit_risk)"
   ]
  },
  {
   "cell_type": "code",
   "execution_count": 7,
   "metadata": {},
   "outputs": [
    {
     "name": "stdout",
     "output_type": "stream",
     "text": [
      "IF renda==0_15 THEN risco=alto \n",
      "IF historia==boa AND divida!=alta THEN risco=baixo \n",
      "IF historia==boa AND garantias!=nenhuma THEN risco=baixo \n",
      "IF historia==boa AND renda!=15_35 THEN risco=baixo \n",
      "IF historia==boa THEN risco=moderado \n",
      "IF divida==alta THEN risco=alto \n",
      "IF historia!=desconhecida THEN risco=moderado \n",
      "IF garantias==adequada THEN risco=baixo \n",
      "IF renda==15_35 THEN risco=moderado \n",
      "IF historia==desconhecida THEN risco=alto \n",
      "IF TRUE THEN risco=alto \n"
     ]
    }
   ],
   "source": [
    "for regra in regras_credit_risk.rule_list:\n",
    "    print(regra)"
   ]
  },
  {
   "cell_type": "code",
   "execution_count": 9,
   "metadata": {},
   "outputs": [
    {
     "data": {
      "text/plain": [
       "array([1, 0], dtype=int64)"
      ]
     },
     "execution_count": 9,
     "metadata": {},
     "output_type": "execute_result"
    }
   ],
   "source": [
    "# história boa (0), dívida alta (0), garantias nenhuma (1), renda > 35 (2)\n",
    "# história ruim (2), dívida alta (0), garantias adequada (0), renda < 15 (0)\n",
    "previsoes = regras_credit_risk([['boa', 'alta', 'nenhuma', 'acima_35'], ['ruim', 'alta', 'adequada', '0_15']])\n",
    "previsoes"
   ]
  },
  {
   "cell_type": "code",
   "execution_count": 12,
   "metadata": {},
   "outputs": [
    {
     "data": {
      "text/plain": [
       "DiscreteVariable(name='risco', values=('alto', 'baixo', 'moderado'))"
      ]
     },
     "execution_count": 12,
     "metadata": {},
     "output_type": "execute_result"
    }
   ],
   "source": [
    "base_credit_risk.domain.class_var"
   ]
  },
  {
   "cell_type": "code",
   "execution_count": 13,
   "metadata": {},
   "outputs": [
    {
     "name": "stdout",
     "output_type": "stream",
     "text": [
      "baixo\n",
      "alto\n"
     ]
    }
   ],
   "source": [
    "for i in previsoes:\n",
    "    print(base_credit_risk.domain.class_var.values[i])"
   ]
  }
 ],
 "metadata": {
  "interpreter": {
   "hash": "85e50c9599b39841c4f90992c85e5a4299335972beb9c535457a0ba359585899"
  },
  "kernelspec": {
   "display_name": "Python 3.9.7 64-bit ('venv': venv)",
   "language": "python",
   "name": "python3"
  },
  "language_info": {
   "codemirror_mode": {
    "name": "ipython",
    "version": 3
   },
   "file_extension": ".py",
   "mimetype": "text/x-python",
   "name": "python",
   "nbconvert_exporter": "python",
   "pygments_lexer": "ipython3",
   "version": "3.9.7"
  },
  "orig_nbformat": 4
 },
 "nbformat": 4,
 "nbformat_minor": 2
}
