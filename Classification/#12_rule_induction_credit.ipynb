{
 "cells": [
  {
   "cell_type": "markdown",
   "metadata": {},
   "source": [
    "Accuracy = 98,6%"
   ]
  },
  {
   "cell_type": "code",
   "execution_count": 1,
   "metadata": {},
   "outputs": [],
   "source": [
    "import Orange"
   ]
  },
  {
   "cell_type": "code",
   "execution_count": 2,
   "metadata": {},
   "outputs": [],
   "source": [
    "base_credit = Orange.data.Table('Machine Learning e Data Science com Python de A à Z/Bases de dados/credit_data_regras.csv')"
   ]
  },
  {
   "cell_type": "code",
   "execution_count": 3,
   "metadata": {},
   "outputs": [
    {
     "data": {
      "text/plain": [
       "[[66155.9, 59.017, 8106.53 | 0],\n",
       " [34415.2, 48.1172, 6564.75 | 0],\n",
       " [57317.2, 63.108, 8020.95 | 0],\n",
       " [42709.5, 45.752, 6103.64 | 0],\n",
       " [66952.7, 18.5843, 8770.1 | 1],\n",
       " ...\n",
       "]"
      ]
     },
     "execution_count": 3,
     "metadata": {},
     "output_type": "execute_result"
    }
   ],
   "source": [
    "base_credit"
   ]
  },
  {
   "cell_type": "code",
   "execution_count": 4,
   "metadata": {},
   "outputs": [
    {
     "data": {
      "text/plain": [
       "[income, age, loan | default]"
      ]
     },
     "execution_count": 4,
     "metadata": {},
     "output_type": "execute_result"
    }
   ],
   "source": [
    "base_credit.domain"
   ]
  },
  {
   "cell_type": "code",
   "execution_count": 9,
   "metadata": {},
   "outputs": [],
   "source": [
    "base_dividida = Orange.evaluation.testing.sample(base_credit, n = 0.25)"
   ]
  },
  {
   "cell_type": "code",
   "execution_count": 10,
   "metadata": {},
   "outputs": [
    {
     "data": {
      "text/plain": [
       "([[55568.2, 42.757, 6114.87 | 0],\n",
       "  [66274.1, 21.8256, 11576.5 | 1],\n",
       "  [51348.5, 52.4367, 1507.89 | 0],\n",
       "  [47704.4, 21.8404, 2717.08 | 0],\n",
       "  [40929.5, 20.2546, 2352.29 | 0],\n",
       "  ...\n",
       " ],\n",
       " [[50167.7, 42.0475, 5592.65 | 0],\n",
       "  [54022.9, 26.561, 10641.5 | 1],\n",
       "  [23329.3, 48.577, 222.622 | 0],\n",
       "  [40366.2, 32.072, 7410.79 | 1],\n",
       "  [57814.1, 43.8309, 7252.12 | 0],\n",
       "  ...\n",
       " ])"
      ]
     },
     "execution_count": 10,
     "metadata": {},
     "output_type": "execute_result"
    }
   ],
   "source": [
    "base_dividida"
   ]
  },
  {
   "cell_type": "code",
   "execution_count": 11,
   "metadata": {},
   "outputs": [
    {
     "data": {
      "text/plain": [
       "[[55568.2, 42.757, 6114.87 | 0],\n",
       " [66274.1, 21.8256, 11576.5 | 1],\n",
       " [51348.5, 52.4367, 1507.89 | 0],\n",
       " [47704.4, 21.8404, 2717.08 | 0],\n",
       " [40929.5, 20.2546, 2352.29 | 0],\n",
       " ...\n",
       "]"
      ]
     },
     "execution_count": 11,
     "metadata": {},
     "output_type": "execute_result"
    }
   ],
   "source": [
    "base_dividida[0]"
   ]
  },
  {
   "cell_type": "code",
   "execution_count": 12,
   "metadata": {},
   "outputs": [
    {
     "data": {
      "text/plain": [
       "[[50167.7, 42.0475, 5592.65 | 0],\n",
       " [54022.9, 26.561, 10641.5 | 1],\n",
       " [23329.3, 48.577, 222.622 | 0],\n",
       " [40366.2, 32.072, 7410.79 | 1],\n",
       " [57814.1, 43.8309, 7252.12 | 0],\n",
       " ...\n",
       "]"
      ]
     },
     "execution_count": 12,
     "metadata": {},
     "output_type": "execute_result"
    }
   ],
   "source": [
    "base_dividida[1]"
   ]
  },
  {
   "cell_type": "code",
   "execution_count": 13,
   "metadata": {},
   "outputs": [],
   "source": [
    "base_treinamento = base_dividida[1]\n",
    "base_teste = base_dividida[0]"
   ]
  },
  {
   "cell_type": "code",
   "execution_count": 14,
   "metadata": {},
   "outputs": [
    {
     "data": {
      "text/plain": [
       "(1500, 500)"
      ]
     },
     "execution_count": 14,
     "metadata": {},
     "output_type": "execute_result"
    }
   ],
   "source": [
    "len(base_treinamento), len(base_teste)"
   ]
  },
  {
   "cell_type": "code",
   "execution_count": 15,
   "metadata": {},
   "outputs": [],
   "source": [
    "cn2 = Orange.classification.rules.CN2Learner()\n",
    "regras_credit = cn2(base_treinamento)"
   ]
  },
  {
   "cell_type": "code",
   "execution_count": 16,
   "metadata": {},
   "outputs": [
    {
     "name": "stdout",
     "output_type": "stream",
     "text": [
      "IF age>=34.9257164876908 THEN default=0 \n",
      "IF loan<=2495.13299137587 AND income>=20145.9885970689 THEN default=0 \n",
      "IF income<=31722.7309499867 AND loan>=2971.00330971188 THEN default=1 \n",
      "IF loan>=7660.34617051509 AND age>=18.1760434475727 THEN default=1 \n",
      "IF income>=58132.4712652713 THEN default=0 \n",
      "IF loan>=6241.27050834808 THEN default=1 \n",
      "IF income>=48790.1324336417 AND income>=50360.6787929311 THEN default=0 \n",
      "IF age>=33.9493660898879 AND income>=34237.5754192472 THEN default=0 \n",
      "IF income<=22089.8374845274 AND age>=21.3656869572587 THEN default=1 \n",
      "IF loan>=5785.88427485782 THEN default=1 \n",
      "IF income>=45971.133494749694 THEN default=0 \n",
      "IF loan<=4285.38691174949 AND income>=34145.7995516248 THEN default=0 \n",
      "IF income<=32720.504798926402 AND loan>=4367.26495019919 THEN default=1 \n",
      "IF income<=33198.1282844208 AND loan>=4285.38691174949 THEN default=1 \n",
      "IF loan<=4625.19337762744 AND age>=20.0963994744234 THEN default=0 \n",
      "IF loan>=5416.3577980789005 THEN default=1 \n",
      "IF income>=40496.2558229454 THEN default=0 \n",
      "IF income>=33441.0510654561 THEN default=1 \n",
      "IF income<=32197.6207010448 THEN default=0 \n",
      "IF TRUE THEN default=0 \n"
     ]
    }
   ],
   "source": [
    "for regra in regras_credit.rule_list:\n",
    "    print(regra)"
   ]
  },
  {
   "cell_type": "code",
   "execution_count": 17,
   "metadata": {},
   "outputs": [],
   "source": [
    "previsoes = Orange.evaluation.testing.TestOnTestData(base_treinamento, base_teste, [lambda testedata: regras_credit])"
   ]
  },
  {
   "cell_type": "code",
   "execution_count": 18,
   "metadata": {},
   "outputs": [
    {
     "data": {
      "text/plain": [
       "array([0.986])"
      ]
     },
     "execution_count": 18,
     "metadata": {},
     "output_type": "execute_result"
    }
   ],
   "source": [
    "Orange.evaluation.CA(previsoes)"
   ]
  }
 ],
 "metadata": {
  "interpreter": {
   "hash": "50f9dc88fbf78228e28ca27dec02a2c0a62082556f09da821a5db223c4e74185"
  },
  "kernelspec": {
   "display_name": "Python 3.9.7 64-bit",
   "language": "python",
   "name": "python3"
  },
  "language_info": {
   "codemirror_mode": {
    "name": "ipython",
    "version": 3
   },
   "file_extension": ".py",
   "mimetype": "text/x-python",
   "name": "python",
   "nbconvert_exporter": "python",
   "pygments_lexer": "ipython3",
   "version": "3.9.7"
  },
  "orig_nbformat": 4
 },
 "nbformat": 4,
 "nbformat_minor": 2
}
