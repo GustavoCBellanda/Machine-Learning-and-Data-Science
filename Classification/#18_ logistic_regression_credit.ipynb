{
 "cells": [
  {
   "cell_type": "markdown",
   "metadata": {},
   "source": [
    "Accuracy = 94,6%"
   ]
  },
  {
   "cell_type": "code",
   "execution_count": 1,
   "metadata": {},
   "outputs": [],
   "source": [
    "import pandas as pd\n",
    "import numpy as np\n",
    "import matplotlib.pyplot as plt\n",
    "import pickle"
   ]
  },
  {
   "cell_type": "code",
   "execution_count": 2,
   "metadata": {},
   "outputs": [],
   "source": [
    "with open('./Machine Learning e Data Science com Python de A à Z/Bases de dados/credit.pkl', 'rb') as f:\n",
    "    x_credit_treinamento, y_credit_treinamento, x_credit_teste, y_credit_teste = pickle.load(f)"
   ]
  },
  {
   "cell_type": "code",
   "execution_count": 3,
   "metadata": {},
   "outputs": [
    {
     "data": {
      "text/plain": [
       "((1500, 3), (1500,))"
      ]
     },
     "execution_count": 3,
     "metadata": {},
     "output_type": "execute_result"
    }
   ],
   "source": [
    "x_credit_treinamento.shape, y_credit_treinamento.shape"
   ]
  },
  {
   "cell_type": "code",
   "execution_count": 4,
   "metadata": {},
   "outputs": [
    {
     "data": {
      "text/plain": [
       "((500, 3), (500,))"
      ]
     },
     "execution_count": 4,
     "metadata": {},
     "output_type": "execute_result"
    }
   ],
   "source": [
    "x_credit_teste.shape, y_credit_teste.shape"
   ]
  },
  {
   "cell_type": "code",
   "execution_count": 5,
   "metadata": {},
   "outputs": [
    {
     "data": {
      "text/plain": [
       "LogisticRegression(random_state=1)"
      ]
     },
     "execution_count": 5,
     "metadata": {},
     "output_type": "execute_result"
    }
   ],
   "source": [
    "from sklearn.linear_model import LogisticRegression\n",
    "logistic_credit = LogisticRegression(random_state=1)\n",
    "logistic_credit.fit(x_credit_treinamento, y_credit_treinamento)"
   ]
  },
  {
   "cell_type": "code",
   "execution_count": 6,
   "metadata": {},
   "outputs": [
    {
     "data": {
      "text/plain": [
       "array([-6.02976095])"
      ]
     },
     "execution_count": 6,
     "metadata": {},
     "output_type": "execute_result"
    }
   ],
   "source": [
    "logistic_credit.intercept_"
   ]
  },
  {
   "cell_type": "code",
   "execution_count": 7,
   "metadata": {},
   "outputs": [
    {
     "data": {
      "text/plain": [
       "array([[-2.54927091, -3.72279861,  3.93940349]])"
      ]
     },
     "execution_count": 7,
     "metadata": {},
     "output_type": "execute_result"
    }
   ],
   "source": [
    "logistic_credit.coef_"
   ]
  },
  {
   "cell_type": "code",
   "execution_count": 8,
   "metadata": {},
   "outputs": [
    {
     "data": {
      "text/plain": [
       "array([1, 0, 0, 0, 0, 0, 0, 0, 1, 0, 0, 0, 0, 0, 0, 0, 1, 0, 0, 1, 0, 0,\n",
       "       0, 0, 0, 0, 0, 0, 0, 0, 0, 0, 0, 0, 0, 1, 1, 0, 0, 0, 0, 0, 0, 0,\n",
       "       1, 1, 1, 0, 1, 0, 0, 0, 0, 0, 0, 0, 0, 0, 0, 1, 0, 0, 0, 1, 0, 0,\n",
       "       0, 0, 0, 1, 0, 0, 1, 0, 0, 1, 0, 0, 1, 0, 0, 0, 0, 0, 0, 0, 1, 0,\n",
       "       0, 0, 0, 0, 0, 0, 1, 0, 0, 0, 0, 0, 0, 0, 1, 1, 0, 0, 0, 0, 0, 1,\n",
       "       0, 0, 1, 0, 0, 0, 0, 0, 0, 0, 0, 0, 0, 0, 0, 0, 0, 0, 0, 1, 0, 1,\n",
       "       0, 0, 0, 0, 0, 0, 0, 0, 0, 0, 0, 0, 1, 0, 0, 0, 0, 0, 0, 0, 1, 0,\n",
       "       0, 0, 0, 0, 0, 0, 0, 0, 0, 0, 0, 1, 0, 0, 0, 1, 0, 0, 0, 0, 0, 0,\n",
       "       0, 1, 0, 0, 0, 0, 0, 1, 0, 0, 0, 1, 0, 0, 0, 0, 1, 0, 0, 0, 0, 0,\n",
       "       0, 0, 0, 0, 0, 0, 0, 0, 0, 1, 1, 0, 0, 0, 0, 0, 0, 0, 0, 0, 0, 0,\n",
       "       1, 0, 0, 0, 0, 0, 0, 0, 0, 1, 0, 0, 0, 0, 0, 0, 0, 0, 0, 0, 0, 0,\n",
       "       0, 0, 1, 0, 0, 0, 0, 0, 0, 0, 0, 0, 0, 0, 1, 1, 1, 0, 1, 0, 0, 0,\n",
       "       0, 0, 0, 0, 0, 0, 0, 0, 0, 0, 0, 0, 0, 0, 0, 0, 0, 0, 0, 0, 0, 0,\n",
       "       0, 0, 0, 0, 0, 0, 0, 0, 0, 0, 1, 0, 0, 0, 0, 0, 0, 0, 1, 0, 0, 0,\n",
       "       0, 0, 0, 1, 0, 0, 0, 1, 0, 1, 0, 0, 0, 1, 0, 0, 0, 1, 0, 1, 0, 0,\n",
       "       1, 0, 0, 0, 0, 1, 0, 0, 0, 0, 0, 0, 1, 0, 0, 0, 0, 0, 0, 0, 0, 0,\n",
       "       0, 0, 0, 1, 0, 0, 0, 0, 0, 0, 0, 0, 0, 0, 0, 0, 0, 0, 0, 0, 0, 0,\n",
       "       0, 0, 0, 0, 1, 0, 0, 0, 0, 0, 0, 0, 1, 0, 0, 0, 0, 0, 0, 0, 0, 0,\n",
       "       0, 0, 0, 0, 0, 0, 0, 0, 0, 0, 1, 0, 0, 0, 0, 0, 0, 0, 0, 0, 0, 0,\n",
       "       0, 0, 0, 0, 0, 0, 0, 0, 0, 0, 0, 0, 0, 1, 0, 0, 0, 0, 0, 0, 0, 0,\n",
       "       0, 0, 0, 0, 1, 0, 0, 0, 0, 0, 0, 0, 0, 0, 0, 0, 0, 0, 0, 0, 0, 0,\n",
       "       0, 0, 1, 0, 0, 0, 0, 0, 0, 0, 0, 0, 0, 0, 0, 0, 1, 0, 0, 0, 0, 0,\n",
       "       0, 0, 1, 0, 0, 0, 1, 0, 0, 0, 0, 0, 0, 0, 0, 1], dtype=int64)"
      ]
     },
     "execution_count": 8,
     "metadata": {},
     "output_type": "execute_result"
    }
   ],
   "source": [
    "previsoes = logistic_credit.predict(x_credit_teste)\n",
    "previsoes"
   ]
  },
  {
   "cell_type": "code",
   "execution_count": 9,
   "metadata": {},
   "outputs": [
    {
     "data": {
      "text/plain": [
       "array([1, 0, 0, 0, 0, 0, 0, 0, 0, 0, 0, 0, 0, 0, 0, 0, 1, 0, 0, 1, 0, 0,\n",
       "       0, 0, 0, 0, 0, 0, 0, 0, 0, 0, 0, 0, 0, 1, 1, 0, 0, 0, 0, 0, 0, 0,\n",
       "       0, 1, 1, 0, 1, 0, 0, 0, 0, 0, 0, 0, 0, 0, 0, 1, 0, 0, 0, 1, 0, 0,\n",
       "       0, 0, 0, 1, 0, 0, 1, 0, 0, 1, 0, 0, 1, 0, 0, 0, 0, 0, 0, 0, 1, 0,\n",
       "       0, 0, 0, 0, 0, 0, 0, 0, 0, 0, 0, 0, 0, 0, 0, 1, 0, 0, 0, 0, 0, 1,\n",
       "       0, 0, 1, 0, 0, 0, 0, 0, 0, 0, 0, 0, 0, 0, 0, 0, 0, 0, 0, 0, 0, 1,\n",
       "       0, 0, 0, 0, 0, 0, 0, 0, 0, 0, 0, 0, 1, 0, 0, 0, 0, 0, 0, 0, 1, 0,\n",
       "       0, 0, 0, 0, 0, 0, 0, 0, 0, 0, 0, 1, 0, 0, 0, 1, 0, 0, 0, 0, 0, 0,\n",
       "       0, 1, 0, 0, 0, 0, 0, 1, 0, 0, 0, 1, 1, 0, 0, 0, 1, 0, 0, 0, 0, 0,\n",
       "       0, 0, 0, 0, 0, 0, 0, 0, 1, 1, 0, 1, 0, 0, 0, 0, 0, 0, 0, 0, 0, 0,\n",
       "       1, 0, 0, 0, 0, 0, 0, 0, 0, 1, 0, 0, 0, 0, 0, 0, 0, 0, 0, 0, 0, 0,\n",
       "       0, 1, 1, 0, 1, 1, 0, 0, 0, 0, 0, 0, 0, 0, 0, 0, 1, 0, 1, 0, 0, 0,\n",
       "       0, 0, 0, 0, 0, 0, 0, 0, 0, 0, 0, 0, 0, 0, 0, 0, 0, 0, 0, 0, 0, 0,\n",
       "       0, 0, 0, 0, 0, 0, 0, 0, 0, 0, 1, 0, 0, 0, 0, 0, 0, 0, 1, 0, 0, 0,\n",
       "       0, 0, 1, 1, 0, 0, 0, 1, 0, 0, 0, 0, 0, 1, 0, 0, 0, 0, 0, 1, 0, 0,\n",
       "       0, 0, 0, 0, 0, 1, 0, 0, 0, 0, 0, 0, 1, 0, 0, 0, 0, 0, 0, 1, 0, 0,\n",
       "       0, 0, 0, 1, 0, 0, 0, 0, 0, 0, 0, 0, 0, 0, 0, 0, 0, 0, 0, 0, 0, 0,\n",
       "       0, 0, 0, 0, 1, 0, 0, 0, 0, 0, 0, 0, 1, 0, 0, 0, 0, 0, 0, 0, 0, 0,\n",
       "       0, 0, 0, 0, 1, 0, 0, 0, 0, 0, 0, 0, 0, 0, 1, 0, 0, 0, 0, 0, 0, 0,\n",
       "       0, 0, 0, 0, 0, 0, 0, 0, 0, 0, 0, 0, 0, 1, 0, 0, 0, 0, 0, 0, 0, 0,\n",
       "       0, 1, 0, 0, 1, 0, 0, 0, 0, 0, 0, 0, 1, 0, 0, 0, 0, 0, 0, 0, 0, 0,\n",
       "       0, 0, 1, 0, 0, 0, 0, 0, 0, 0, 0, 0, 0, 0, 0, 1, 0, 0, 0, 0, 0, 0,\n",
       "       0, 0, 1, 0, 0, 0, 1, 0, 0, 0, 0, 0, 0, 0, 1, 1], dtype=int64)"
      ]
     },
     "execution_count": 9,
     "metadata": {},
     "output_type": "execute_result"
    }
   ],
   "source": [
    "y_credit_teste"
   ]
  },
  {
   "cell_type": "code",
   "execution_count": 10,
   "metadata": {},
   "outputs": [],
   "source": [
    "from sklearn.metrics import accuracy_score, classification_report"
   ]
  },
  {
   "cell_type": "code",
   "execution_count": 11,
   "metadata": {},
   "outputs": [
    {
     "data": {
      "text/plain": [
       "0.946"
      ]
     },
     "execution_count": 11,
     "metadata": {},
     "output_type": "execute_result"
    }
   ],
   "source": [
    "accuracy_score(y_credit_teste, previsoes)"
   ]
  },
  {
   "cell_type": "code",
   "execution_count": 12,
   "metadata": {},
   "outputs": [
    {
     "data": {
      "text/plain": [
       "0.946"
      ]
     },
     "execution_count": 12,
     "metadata": {},
     "output_type": "execute_result"
    },
    {
     "data": {
      "image/png": "[encoded data removed]",
      "text/plain": [
       "<Figure size 576x396 with 1 Axes>"
      ]
     },
     "metadata": {},
     "output_type": "display_data"
    }
   ],
   "source": [
    "from yellowbrick.classifier import ConfusionMatrix\n",
    "cm = ConfusionMatrix(logistic_credit)\n",
    "cm.fit(x_credit_treinamento, y_credit_treinamento)\n",
    "cm.score(x_credit_teste, y_credit_teste)"
   ]
  },
  {
   "cell_type": "code",
   "execution_count": 13,
   "metadata": {},
   "outputs": [
    {
     "name": "stdout",
     "output_type": "stream",
     "text": [
      "              precision    recall  f1-score   support\n",
      "\n",
      "           0       0.97      0.97      0.97       436\n",
      "           1       0.79      0.78      0.79        64\n",
      "\n",
      "    accuracy                           0.95       500\n",
      "   macro avg       0.88      0.88      0.88       500\n",
      "weighted avg       0.95      0.95      0.95       500\n",
      "\n"
     ]
    }
   ],
   "source": [
    "print(classification_report(y_credit_teste, previsoes))"
   ]
  },
  {
   "cell_type": "code",
   "execution_count": 14,
   "metadata": {},
   "outputs": [
    {
     "name": "stdout",
     "output_type": "stream",
     "text": [
      "\n",
      "    Logistic Regression (aka logit, MaxEnt) classifier.\n",
      "\n",
      "    In the multiclass case, the training algorithm uses the one-vs-rest (OvR)\n",
      "    scheme if the 'multi_class' option is set to 'ovr', and uses the\n",
      "    cross-entropy loss if the 'multi_class' option is set to 'multinomial'.\n",
      "    (Currently the 'multinomial' option is supported only by the 'lbfgs',\n",
      "    'sag', 'saga' and 'newton-cg' solvers.)\n",
      "\n",
      "    This class implements regularized logistic regression using the\n",
      "    'liblinear' library, 'newton-cg', 'sag', 'saga' and 'lbfgs' solvers. **Note\n",
      "    that regularization is applied by default**. It can handle both dense\n",
      "    and sparse input. Use C-ordered arrays or CSR matrices containing 64-bit\n",
      "    floats for optimal performance; any other input format will be converted\n",
      "    (and copied).\n",
      "\n",
      "    The 'newton-cg', 'sag', and 'lbfgs' solvers support only L2 regularization\n",
      "    with primal formulation, or no regularization. The 'liblinear' solver\n",
      "    supports both L1 and L2 regularization, with a dual formulation only for\n",
      "    the L2 penalty. The Elastic-Net regularization is only supported by the\n",
      "    'saga' solver.\n",
      "\n",
      "    Read more in the :ref:`User Guide <logistic_regression>`.\n",
      "\n",
      "    Parameters\n",
      "    ----------\n",
      "    penalty : {'l1', 'l2', 'elasticnet', 'none'}, default='l2'\n",
      "        Specify the norm of the penalty:\n",
      "\n",
      "        - `'none'`: no penalty is added;\n",
      "        - `'l2'`: add a L2 penalty term and it is the default choice;\n",
      "        - `'l1'`: add a L1 penalty term;\n",
      "        - `'elasticnet'`: both L1 and L2 penalty terms are added.\n",
      "\n",
      "        .. warning::\n",
      "           Some penalties may not work with some solvers. See the parameter\n",
      "           `solver` below, to know the compatibility between the penalty and\n",
      "           solver.\n",
      "\n",
      "        .. versionadded:: 0.19\n",
      "           l1 penalty with SAGA solver (allowing 'multinomial' + L1)\n",
      "\n",
      "    dual : bool, default=False\n",
      "        Dual or primal formulation. Dual formulation is only implemented for\n",
      "        l2 penalty with liblinear solver. Prefer dual=False when\n",
      "        n_samples > n_features.\n",
      "\n",
      "    tol : float, default=1e-4\n",
      "        Tolerance for stopping criteria.\n",
      "\n",
      "    C : float, default=1.0\n",
      "        Inverse of regularization strength; must be a positive float.\n",
      "        Like in support vector machines, smaller values specify stronger\n",
      "        regularization.\n",
      "\n",
      "    fit_intercept : bool, default=True\n",
      "        Specifies if a constant (a.k.a. bias or intercept) should be\n",
      "        added to the decision function.\n",
      "\n",
      "    intercept_scaling : float, default=1\n",
      "        Useful only when the solver 'liblinear' is used\n",
      "        and self.fit_intercept is set to True. In this case, x becomes\n",
      "        [x, self.intercept_scaling],\n",
      "        i.e. a \"synthetic\" feature with constant value equal to\n",
      "        intercept_scaling is appended to the instance vector.\n",
      "        The intercept becomes ``intercept_scaling * synthetic_feature_weight``.\n",
      "\n",
      "        Note! the synthetic feature weight is subject to l1/l2 regularization\n",
      "        as all other features.\n",
      "        To lessen the effect of regularization on synthetic feature weight\n",
      "        (and therefore on the intercept) intercept_scaling has to be increased.\n",
      "\n",
      "    class_weight : dict or 'balanced', default=None\n",
      "        Weights associated with classes in the form ``{class_label: weight}``.\n",
      "        If not given, all classes are supposed to have weight one.\n",
      "\n",
      "        The \"balanced\" mode uses the values of y to automatically adjust\n",
      "        weights inversely proportional to class frequencies in the input data\n",
      "        as ``n_samples / (n_classes * np.bincount(y))``.\n",
      "\n",
      "        Note that these weights will be multiplied with sample_weight (passed\n",
      "        through the fit method) if sample_weight is specified.\n",
      "\n",
      "        .. versionadded:: 0.17\n",
      "           *class_weight='balanced'*\n",
      "\n",
      "    random_state : int, RandomState instance, default=None\n",
      "        Used when ``solver`` == 'sag', 'saga' or 'liblinear' to shuffle the\n",
      "        data. See :term:`Glossary <random_state>` for details.\n",
      "\n",
      "    solver : {'newton-cg', 'lbfgs', 'liblinear', 'sag', 'saga'},             default='lbfgs'\n",
      "\n",
      "        Algorithm to use in the optimization problem. Default is 'lbfgs'.\n",
      "        To choose a solver, you might want to consider the following aspects:\n",
      "\n",
      "            - For small datasets, 'liblinear' is a good choice, whereas 'sag'\n",
      "              and 'saga' are faster for large ones;\n",
      "            - For multiclass problems, only 'newton-cg', 'sag', 'saga' and\n",
      "              'lbfgs' handle multinomial loss;\n",
      "            - 'liblinear' is limited to one-versus-rest schemes.\n",
      "\n",
      "        .. warning::\n",
      "           The choice of the algorithm depends on the penalty chosen:\n",
      "           Supported penalties by solver:\n",
      "\n",
      "           - 'newton-cg'   -   ['l2', 'none']\n",
      "           - 'lbfgs'       -   ['l2', 'none']\n",
      "           - 'liblinear'   -   ['l1', 'l2']\n",
      "           - 'sag'         -   ['l2', 'none']\n",
      "           - 'saga'        -   ['elasticnet', 'l1', 'l2', 'none']\n",
      "\n",
      "        .. note::\n",
      "           'sag' and 'saga' fast convergence is only guaranteed on\n",
      "           features with approximately the same scale. You can\n",
      "           preprocess the data with a scaler from :mod:`sklearn.preprocessing`.\n",
      "\n",
      "        .. seealso::\n",
      "           Refer to the User Guide for more information regarding\n",
      "           :class:`LogisticRegression` and more specifically the\n",
      "           `Table <https://scikit-learn.org/dev/modules/linear_model.html#logistic-regression>`_\n",
      "           summarazing solver/penalty supports.\n",
      "           <!--\n",
      "           # noqa: E501\n",
      "           -->\n",
      "\n",
      "        .. versionadded:: 0.17\n",
      "           Stochastic Average Gradient descent solver.\n",
      "        .. versionadded:: 0.19\n",
      "           SAGA solver.\n",
      "        .. versionchanged:: 0.22\n",
      "            The default solver changed from 'liblinear' to 'lbfgs' in 0.22.\n",
      "\n",
      "    max_iter : int, default=100\n",
      "        Maximum number of iterations taken for the solvers to converge.\n",
      "\n",
      "    multi_class : {'auto', 'ovr', 'multinomial'}, default='auto'\n",
      "        If the option chosen is 'ovr', then a binary problem is fit for each\n",
      "        label. For 'multinomial' the loss minimised is the multinomial loss fit\n",
      "        across the entire probability distribution, *even when the data is\n",
      "        binary*. 'multinomial' is unavailable when solver='liblinear'.\n",
      "        'auto' selects 'ovr' if the data is binary, or if solver='liblinear',\n",
      "        and otherwise selects 'multinomial'.\n",
      "\n",
      "        .. versionadded:: 0.18\n",
      "           Stochastic Average Gradient descent solver for 'multinomial' case.\n",
      "        .. versionchanged:: 0.22\n",
      "            Default changed from 'ovr' to 'auto' in 0.22.\n",
      "\n",
      "    verbose : int, default=0\n",
      "        For the liblinear and lbfgs solvers set verbose to any positive\n",
      "        number for verbosity.\n",
      "\n",
      "    warm_start : bool, default=False\n",
      "        When set to True, reuse the solution of the previous call to fit as\n",
      "        initialization, otherwise, just erase the previous solution.\n",
      "        Useless for liblinear solver. See :term:`the Glossary <warm_start>`.\n",
      "\n",
      "        .. versionadded:: 0.17\n",
      "           *warm_start* to support *lbfgs*, *newton-cg*, *sag*, *saga* solvers.\n",
      "\n",
      "    n_jobs : int, default=None\n",
      "        Number of CPU cores used when parallelizing over classes if\n",
      "        multi_class='ovr'\". This parameter is ignored when the ``solver`` is\n",
      "        set to 'liblinear' regardless of whether 'multi_class' is specified or\n",
      "        not. ``None`` means 1 unless in a :obj:`joblib.parallel_backend`\n",
      "        context. ``-1`` means using all processors.\n",
      "        See :term:`Glossary <n_jobs>` for more details.\n",
      "\n",
      "    l1_ratio : float, default=None\n",
      "        The Elastic-Net mixing parameter, with ``0 <= l1_ratio <= 1``. Only\n",
      "        used if ``penalty='elasticnet'``. Setting ``l1_ratio=0`` is equivalent\n",
      "        to using ``penalty='l2'``, while setting ``l1_ratio=1`` is equivalent\n",
      "        to using ``penalty='l1'``. For ``0 < l1_ratio <1``, the penalty is a\n",
      "        combination of L1 and L2.\n",
      "\n",
      "    Attributes\n",
      "    ----------\n",
      "\n",
      "    classes_ : ndarray of shape (n_classes, )\n",
      "        A list of class labels known to the classifier.\n",
      "\n",
      "    coef_ : ndarray of shape (1, n_features) or (n_classes, n_features)\n",
      "        Coefficient of the features in the decision function.\n",
      "\n",
      "        `coef_` is of shape (1, n_features) when the given problem is binary.\n",
      "        In particular, when `multi_class='multinomial'`, `coef_` corresponds\n",
      "        to outcome 1 (True) and `-coef_` corresponds to outcome 0 (False).\n",
      "\n",
      "    intercept_ : ndarray of shape (1,) or (n_classes,)\n",
      "        Intercept (a.k.a. bias) added to the decision function.\n",
      "\n",
      "        If `fit_intercept` is set to False, the intercept is set to zero.\n",
      "        `intercept_` is of shape (1,) when the given problem is binary.\n",
      "        In particular, when `multi_class='multinomial'`, `intercept_`\n",
      "        corresponds to outcome 1 (True) and `-intercept_` corresponds to\n",
      "        outcome 0 (False).\n",
      "\n",
      "    n_features_in_ : int\n",
      "        Number of features seen during :term:`fit`.\n",
      "\n",
      "        .. versionadded:: 0.24\n",
      "\n",
      "    feature_names_in_ : ndarray of shape (`n_features_in_`,)\n",
      "        Names of features seen during :term:`fit`. Defined only when `X`\n",
      "        has feature names that are all strings.\n",
      "\n",
      "        .. versionadded:: 1.0\n",
      "\n",
      "    n_iter_ : ndarray of shape (n_classes,) or (1, )\n",
      "        Actual number of iterations for all classes. If binary or multinomial,\n",
      "        it returns only 1 element. For liblinear solver, only the maximum\n",
      "        number of iteration across all classes is given.\n",
      "\n",
      "        .. versionchanged:: 0.20\n",
      "\n",
      "            In SciPy <= 1.0.0 the number of lbfgs iterations may exceed\n",
      "            ``max_iter``. ``n_iter_`` will now report at most ``max_iter``.\n",
      "\n",
      "    See Also\n",
      "    --------\n",
      "    SGDClassifier : Incrementally trained logistic regression (when given\n",
      "        the parameter ``loss=\"log\"``).\n",
      "    LogisticRegressionCV : Logistic regression with built-in cross validation.\n",
      "\n",
      "    Notes\n",
      "    -----\n",
      "    The underlying C implementation uses a random number generator to\n",
      "    select features when fitting the model. It is thus not uncommon,\n",
      "    to have slightly different results for the same input data. If\n",
      "    that happens, try with a smaller tol parameter.\n",
      "\n",
      "    Predict output may not match that of standalone liblinear in certain\n",
      "    cases. See :ref:`differences from liblinear <liblinear_differences>`\n",
      "    in the narrative documentation.\n",
      "\n",
      "    References\n",
      "    ----------\n",
      "\n",
      "    L-BFGS-B -- Software for Large-scale Bound-constrained Optimization\n",
      "        Ciyou Zhu, Richard Byrd, Jorge Nocedal and Jose Luis Morales.\n",
      "        http://users.iems.northwestern.edu/~nocedal/lbfgsb.html\n",
      "\n",
      "    LIBLINEAR -- A Library for Large Linear Classification\n",
      "        https://www.csie.ntu.edu.tw/~cjlin/liblinear/\n",
      "\n",
      "    SAG -- Mark Schmidt, Nicolas Le Roux, and Francis Bach\n",
      "        Minimizing Finite Sums with the Stochastic Average Gradient\n",
      "        https://hal.inria.fr/hal-00860051/document\n",
      "\n",
      "    SAGA -- Defazio, A., Bach F. & Lacoste-Julien S. (2014).\n",
      "        SAGA: A Fast Incremental Gradient Method With Support\n",
      "        for Non-Strongly Convex Composite Objectives\n",
      "        https://arxiv.org/abs/1407.0202\n",
      "\n",
      "    Hsiang-Fu Yu, Fang-Lan Huang, Chih-Jen Lin (2011). Dual coordinate descent\n",
      "        methods for logistic regression and maximum entropy models.\n",
      "        Machine Learning 85(1-2):41-75.\n",
      "        https://www.csie.ntu.edu.tw/~cjlin/papers/maxent_dual.pdf\n",
      "\n",
      "    Examples\n",
      "    --------\n",
      "    >>> from sklearn.datasets import load_iris\n",
      "    >>> from sklearn.linear_model import LogisticRegression\n",
      "    >>> X, y = load_iris(return_X_y=True)\n",
      "    >>> clf = LogisticRegression(random_state=0).fit(X, y)\n",
      "    >>> clf.predict(X[:2, :])\n",
      "    array([0, 0])\n",
      "    >>> clf.predict_proba(X[:2, :])\n",
      "    array([[9.8...e-01, 1.8...e-02, 1.4...e-08],\n",
      "           [9.7...e-01, 2.8...e-02, ...e-08]])\n",
      "    >>> clf.score(X, y)\n",
      "    0.97...\n",
      "    \n"
     ]
    }
   ],
   "source": [
    "print(LogisticRegression.__doc__)"
   ]
  },
  {
   "cell_type": "code",
   "execution_count": 15,
   "metadata": {},
   "outputs": [
    {
     "name": "stdout",
     "output_type": "stream",
     "text": [
      "(2000, 3)\n",
      "(2000, 3)\n",
      "{'C': 1.0, 'solver': 'newton-cg', 'tol': 0.001}\n",
      "0.9484999999999999\n"
     ]
    }
   ],
   "source": [
    "from sklearn.model_selection import GridSearchCV\n",
    "x_credit = np.concatenate((x_credit_treinamento, x_credit_teste), axis=0)\n",
    "y_credit = np.concatenate((y_credit_treinamento, y_credit_teste), axis=0)\n",
    "print(x_credit.shape)\n",
    "print(x_credit.shape)\n",
    "parameters = {'tol': [0.001, 0.0001, 0.00001],\n",
    "              'C': [1.0, 1.5, 2.0],\n",
    "              'solver': ['newton-cg', 'lbfgs', 'liblinear', 'sag', 'saga'],}\n",
    "grid_search = GridSearchCV(estimator=LogisticRegression(), param_grid=parameters)\n",
    "grid_search.fit(x_credit, y_credit)\n",
    "best_parameters = grid_search.best_params_\n",
    "best_score = grid_search.best_score_\n",
    "print(best_parameters)\n",
    "print(best_score)"
   ]
  },
  {
   "cell_type": "code",
   "execution_count": 16,
   "metadata": {},
   "outputs": [
    {
     "name": "stdout",
     "output_type": "stream",
     "text": [
      "C = 1.0, solver = 'newton-cg', tol = 0.001\n"
     ]
    }
   ],
   "source": [
    "def prepare_tree_parameters(parameters):\n",
    "    equal_or_comma = ','\n",
    "    converted_parameters = ''\n",
    "    for i in range(len(parameters)):\n",
    "        if equal_or_comma == ',':\n",
    "            if parameters[i] == \"'\":\n",
    "                converted_parameters += ''\n",
    "            elif parameters[i] == \":\":\n",
    "                converted_parameters += ' ='\n",
    "                equal_or_comma = '='\n",
    "            else:\n",
    "                converted_parameters += parameters[i]\n",
    "        elif equal_or_comma == '=': \n",
    "            if parameters[i] == \"'\":\n",
    "                converted_parameters += parameters[i]\n",
    "            elif parameters[i] == \",\":\n",
    "                converted_parameters += ','\n",
    "                equal_or_comma = ','\n",
    "            else:\n",
    "                converted_parameters += parameters[i]\n",
    "                \n",
    "            \n",
    "    return converted_parameters\n",
    "\n",
    "parameters = prepare_tree_parameters(\"'C': 1.0, 'solver': 'newton-cg', 'tol': 0.001\")\n",
    "print(parameters)"
   ]
  },
  {
   "cell_type": "code",
   "execution_count": null,
   "metadata": {},
   "outputs": [],
   "source": [
    "from sklearn.model_selection import cross_val_score, KFold\n",
    "results = []\n",
    "\n",
    "for i in range(30): \n",
    "    kfold = KFold(n_splits=10, shuffle=True, random_state=i)\n",
    "    tool = LogisticRegression(C = 1.0, solver = 'newton-cg', tol = 0.001)\n",
    "    scores = cross_val_score(tool, x_credit, y_credit, cv = kfold)\n",
    "    # print(scores)\n",
    "    results.append(scores.mean())\n",
    "results"
   ]
  }
 ],
 "metadata": {
  "interpreter": {
   "hash": "50f9dc88fbf78228e28ca27dec02a2c0a62082556f09da821a5db223c4e74185"
  },
  "kernelspec": {
   "display_name": "Python 3.9.7 64-bit",
   "language": "python",
   "name": "python3"
  },
  "language_info": {
   "codemirror_mode": {
    "name": "ipython",
    "version": 3
   },
   "file_extension": ".py",
   "mimetype": "text/x-python",
   "name": "python",
   "nbconvert_exporter": "python",
   "pygments_lexer": "ipython3",
   "version": "3.9.7"
  },
  "orig_nbformat": 4
 },
 "nbformat": 4,
 "nbformat_minor": 2
}
